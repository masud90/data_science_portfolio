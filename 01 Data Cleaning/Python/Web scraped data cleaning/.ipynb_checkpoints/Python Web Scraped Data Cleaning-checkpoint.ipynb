{
 "cells": [
  {
   "cell_type": "markdown",
   "id": "559bd7d0-db3a-49ba-a87d-71f9e34384a3",
   "metadata": {},
   "source": [
    "# Web scraped data cleaning using python\n",
    "\n",
    "Author: [Masud Rahman](masud90.github.io)\n",
    "This project will scrape a website (with permission) for dataset, clean them, and produce an output."
   ]
  },
  {
   "cell_type": "markdown",
   "id": "b19436a4-027b-4de8-9f0b-205ccb4100e9",
   "metadata": {},
   "source": [
    "## Initialize setup"
   ]
  },
  {
   "cell_type": "code",
   "execution_count": 41,
   "id": "c4c5e71b-5528-4946-884a-9d63f8c5c65b",
   "metadata": {},
   "outputs": [],
   "source": [
    "import requests\n",
    "from bs4 import BeautifulSoup\n",
    "import pandas as pd"
   ]
  },
  {
   "cell_type": "markdown",
   "id": "22ad08d8-60b0-4d8a-995f-ca21903d1a3c",
   "metadata": {},
   "source": [
    "## Get data"
   ]
  },
  {
   "cell_type": "code",
   "execution_count": 43,
   "id": "84110bd5-df49-429f-b1a8-215018ec6b40",
   "metadata": {},
   "outputs": [
    {
     "name": "stdout",
     "output_type": "stream",
     "text": [
      "Title: A Light in the Attic, Price: £51.77, Availability: In stock\n",
      "Title: Tipping the Velvet, Price: £53.74, Availability: In stock\n",
      "Title: Soumission, Price: £50.10, Availability: In stock\n",
      "Title: Sharp Objects, Price: £47.82, Availability: In stock\n",
      "Title: Sapiens: A Brief History of Humankind, Price: £54.23, Availability: In stock\n",
      "Title: The Requiem Red, Price: £22.65, Availability: In stock\n",
      "Title: The Dirty Little Secrets of Getting Your Dream Job, Price: £33.34, Availability: In stock\n",
      "Title: The Coming Woman: A Novel Based on the Life of the Infamous Feminist, Victoria Woodhull, Price: £17.93, Availability: In stock\n",
      "Title: The Boys in the Boat: Nine Americans and Their Epic Quest for Gold at the 1936 Berlin Olympics, Price: £22.60, Availability: In stock\n",
      "Title: The Black Maria, Price: £52.15, Availability: In stock\n",
      "Title: Starving Hearts (Triangular Trade Trilogy, #1), Price: £13.99, Availability: In stock\n",
      "Title: Shakespeare's Sonnets, Price: £20.66, Availability: In stock\n",
      "Title: Set Me Free, Price: £17.46, Availability: In stock\n",
      "Title: Scott Pilgrim's Precious Little Life (Scott Pilgrim #1), Price: £52.29, Availability: In stock\n",
      "Title: Rip it Up and Start Again, Price: £35.02, Availability: In stock\n",
      "Title: Our Band Could Be Your Life: Scenes from the American Indie Underground, 1981-1991, Price: £57.25, Availability: In stock\n",
      "Title: Olio, Price: £23.88, Availability: In stock\n",
      "Title: Mesaerion: The Best Science Fiction Stories 1800-1849, Price: £37.59, Availability: In stock\n",
      "Title: Libertarianism for Beginners, Price: £51.33, Availability: In stock\n",
      "Title: It's Only the Himalayas, Price: £45.17, Availability: In stock\n"
     ]
    }
   ],
   "source": [
    "# URL of the website to scrape\n",
    "url = \"https://books.toscrape.com/\"\n",
    "\n",
    "# Send a GET request to the URL\n",
    "response = requests.get(url)\n",
    "\n",
    "# Check if the request was successful\n",
    "if response.status_code == 200:\n",
    "    # Parse the HTML content\n",
    "    soup = BeautifulSoup(response.content, 'html.parser')\n",
    "    \n",
    "    # Find all the book items on the page\n",
    "    books = soup.find_all('article', class_='product_pod')\n",
    "    \n",
    "    # Initialize an empty list to store book data\n",
    "    books_data = []\n",
    "    \n",
    "    # Iterate over each book item and extract the required information\n",
    "    for book in books:\n",
    "        # Extract book title\n",
    "        title = book.h3.a['title']\n",
    "        \n",
    "        # Extract book price\n",
    "        price = book.find('p', class_='price_color').text\n",
    "        \n",
    "        # Extract availability\n",
    "        availability = book.find('p', class_='instock availability').text.strip()\n",
    "        \n",
    "        # Add the extracted data to the list\n",
    "        books_data.append((title, price, availability))\n",
    "    \n",
    "    # Print or process the extracted data\n",
    "    for book in books_data:\n",
    "        print(f\"Title: {book[0]}, Price: {book[1]}, Availability: {book[2]}\")\n",
    "else:\n",
    "    print(\"Failed to retrieve the webpage\")"
   ]
  },
  {
   "cell_type": "markdown",
   "id": "f2bda787-b75c-4efd-ad13-25080eae218c",
   "metadata": {},
   "source": [
    "## Generate the dataset\n",
    "We will now use the scraped data to produce a dataframe."
   ]
  },
  {
   "cell_type": "code",
   "execution_count": 45,
   "id": "48a1d5c2-4ced-4226-b04a-c3a83fa87d19",
   "metadata": {},
   "outputs": [
    {
     "data": {
      "text/html": [
       "<div>\n",
       "<style scoped>\n",
       "    .dataframe tbody tr th:only-of-type {\n",
       "        vertical-align: middle;\n",
       "    }\n",
       "\n",
       "    .dataframe tbody tr th {\n",
       "        vertical-align: top;\n",
       "    }\n",
       "\n",
       "    .dataframe thead th {\n",
       "        text-align: right;\n",
       "    }\n",
       "</style>\n",
       "<table border=\"1\" class=\"dataframe\">\n",
       "  <thead>\n",
       "    <tr style=\"text-align: right;\">\n",
       "      <th></th>\n",
       "      <th>Title</th>\n",
       "      <th>Price</th>\n",
       "      <th>Availability</th>\n",
       "    </tr>\n",
       "  </thead>\n",
       "  <tbody>\n",
       "    <tr>\n",
       "      <th>0</th>\n",
       "      <td>A Light in the Attic</td>\n",
       "      <td>£51.77</td>\n",
       "      <td>In stock</td>\n",
       "    </tr>\n",
       "    <tr>\n",
       "      <th>1</th>\n",
       "      <td>Tipping the Velvet</td>\n",
       "      <td>£53.74</td>\n",
       "      <td>In stock</td>\n",
       "    </tr>\n",
       "    <tr>\n",
       "      <th>2</th>\n",
       "      <td>Soumission</td>\n",
       "      <td>£50.10</td>\n",
       "      <td>In stock</td>\n",
       "    </tr>\n",
       "    <tr>\n",
       "      <th>3</th>\n",
       "      <td>Sharp Objects</td>\n",
       "      <td>£47.82</td>\n",
       "      <td>In stock</td>\n",
       "    </tr>\n",
       "    <tr>\n",
       "      <th>4</th>\n",
       "      <td>Sapiens: A Brief History of Humankind</td>\n",
       "      <td>£54.23</td>\n",
       "      <td>In stock</td>\n",
       "    </tr>\n",
       "  </tbody>\n",
       "</table>\n",
       "</div>"
      ],
      "text/plain": [
       "                                   Title   Price Availability\n",
       "0                   A Light in the Attic  £51.77     In stock\n",
       "1                     Tipping the Velvet  £53.74     In stock\n",
       "2                             Soumission  £50.10     In stock\n",
       "3                          Sharp Objects  £47.82     In stock\n",
       "4  Sapiens: A Brief History of Humankind  £54.23     In stock"
      ]
     },
     "execution_count": 45,
     "metadata": {},
     "output_type": "execute_result"
    }
   ],
   "source": [
    "# Create a pandas DataFrame\n",
    "df = pd.DataFrame(books_data, columns=[\"Title\", \"Price\", \"Availability\"])\n",
    "df.head()"
   ]
  },
  {
   "cell_type": "markdown",
   "id": "7602e248-598a-4617-b13e-94b11f1f2230",
   "metadata": {},
   "source": [
    "## Data cleaning"
   ]
  },
  {
   "cell_type": "code",
   "execution_count": 47,
   "id": "47f6b77d-1d03-4a16-a199-1963796fba22",
   "metadata": {},
   "outputs": [
    {
     "data": {
      "text/html": [
       "<div>\n",
       "<style scoped>\n",
       "    .dataframe tbody tr th:only-of-type {\n",
       "        vertical-align: middle;\n",
       "    }\n",
       "\n",
       "    .dataframe tbody tr th {\n",
       "        vertical-align: top;\n",
       "    }\n",
       "\n",
       "    .dataframe thead th {\n",
       "        text-align: right;\n",
       "    }\n",
       "</style>\n",
       "<table border=\"1\" class=\"dataframe\">\n",
       "  <thead>\n",
       "    <tr style=\"text-align: right;\">\n",
       "      <th></th>\n",
       "      <th>Title</th>\n",
       "      <th>Price</th>\n",
       "      <th>Availability</th>\n",
       "    </tr>\n",
       "  </thead>\n",
       "  <tbody>\n",
       "    <tr>\n",
       "      <th>0</th>\n",
       "      <td>A Light in the Attic</td>\n",
       "      <td>51.77</td>\n",
       "      <td>In stock</td>\n",
       "    </tr>\n",
       "    <tr>\n",
       "      <th>1</th>\n",
       "      <td>Tipping the Velvet</td>\n",
       "      <td>53.74</td>\n",
       "      <td>In stock</td>\n",
       "    </tr>\n",
       "    <tr>\n",
       "      <th>2</th>\n",
       "      <td>Soumission</td>\n",
       "      <td>50.10</td>\n",
       "      <td>In stock</td>\n",
       "    </tr>\n",
       "    <tr>\n",
       "      <th>3</th>\n",
       "      <td>Sharp Objects</td>\n",
       "      <td>47.82</td>\n",
       "      <td>In stock</td>\n",
       "    </tr>\n",
       "    <tr>\n",
       "      <th>4</th>\n",
       "      <td>Sapiens: A Brief History of Humankind</td>\n",
       "      <td>54.23</td>\n",
       "      <td>In stock</td>\n",
       "    </tr>\n",
       "  </tbody>\n",
       "</table>\n",
       "</div>"
      ],
      "text/plain": [
       "                                   Title  Price Availability\n",
       "0                   A Light in the Attic  51.77     In stock\n",
       "1                     Tipping the Velvet  53.74     In stock\n",
       "2                             Soumission  50.10     In stock\n",
       "3                          Sharp Objects  47.82     In stock\n",
       "4  Sapiens: A Brief History of Humankind  54.23     In stock"
      ]
     },
     "execution_count": 47,
     "metadata": {},
     "output_type": "execute_result"
    }
   ],
   "source": [
    "# Convert the price from string to float\n",
    "df['Price'] = df['Price'].str.replace('£', '').astype(float)\n",
    "df.head()"
   ]
  },
  {
   "cell_type": "markdown",
   "id": "ac70e5c4-73c3-4d54-abda-c6bf3477dc8a",
   "metadata": {},
   "source": [
    "## Basic Checks\n",
    "Now, let's perform some basic analysis on the data."
   ]
  },
  {
   "cell_type": "code",
   "execution_count": 49,
   "id": "f20a9aa5-ef36-48b1-ab3a-4906e63bb39b",
   "metadata": {},
   "outputs": [
    {
     "name": "stdout",
     "output_type": "stream",
     "text": [
      "\n",
      "Basic Statistics:\n",
      "Total number of books: 20\n",
      "Average price of books: £38.05\n",
      "Most expensive book: Our Band Could Be Your Life: Scenes from the American Indie Underground, 1981-1991 (£57.25)\n",
      "Least expensive book: Starving Hearts (Triangular Trade Trilogy, #1) (£13.99)\n"
     ]
    }
   ],
   "source": [
    "print(\"\\nBasic Statistics:\")\n",
    "print(f\"Total number of books: {df.shape[0]}\")\n",
    "print(f\"Average price of books: £{df['Price'].mean():.2f}\")\n",
    "print(f\"Most expensive book: {df.loc[df['Price'].idxmax()]['Title']} (£{df['Price'].max():.2f})\")\n",
    "print(f\"Least expensive book: {df.loc[df['Price'].idxmin()]['Title']} (£{df['Price'].min():.2f})\")"
   ]
  },
  {
   "cell_type": "markdown",
   "id": "2f3c9366-c1b0-4fac-ac00-ba646b9bb8b6",
   "metadata": {},
   "source": [
    "## Save the data"
   ]
  },
  {
   "cell_type": "code",
   "execution_count": 51,
   "id": "706812eb-dc3c-4c0e-9bf6-97dcbea9b4be",
   "metadata": {},
   "outputs": [
    {
     "name": "stdout",
     "output_type": "stream",
     "text": [
      "Data saved to books_data.csv\n"
     ]
    }
   ],
   "source": [
    "# Save the DataFrame to a CSV file\n",
    "df.to_csv('books_data.csv', index=False)\n",
    "\n",
    "print(\"Data saved to books_data.csv\")"
   ]
  }
 ],
 "metadata": {
  "kernelspec": {
   "display_name": "Python 3 (ipykernel)",
   "language": "python",
   "name": "python3"
  },
  "language_info": {
   "codemirror_mode": {
    "name": "ipython",
    "version": 3
   },
   "file_extension": ".py",
   "mimetype": "text/x-python",
   "name": "python",
   "nbconvert_exporter": "python",
   "pygments_lexer": "ipython3",
   "version": "3.12.4"
  }
 },
 "nbformat": 4,
 "nbformat_minor": 5
}
